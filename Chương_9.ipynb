{
  "nbformat": 4,
  "nbformat_minor": 0,
  "metadata": {
    "colab": {
      "provenance": [],
      "include_colab_link": true
    },
    "kernelspec": {
      "name": "python3",
      "display_name": "Python 3"
    },
    "language_info": {
      "name": "python"
    }
  },
  "cells": [
    {
      "cell_type": "markdown",
      "metadata": {
        "id": "view-in-github",
        "colab_type": "text"
      },
      "source": [
        "<a href=\"https://colab.research.google.com/github/NTuanHung123/TRR/blob/main/Ch%C6%B0%C6%A1ng_9.ipynb\" target=\"_parent\"><img src=\"https://colab.research.google.com/assets/colab-badge.svg\" alt=\"Open In Colab\"/></a>"
      ]
    },
    {
      "cell_type": "markdown",
      "source": [
        "#BIỂU DIỄN ĐỒ THỊ VÀ KIỂM TRA ĐIỀU KIỆN EULER\n"
      ],
      "metadata": {
        "id": "ygjyb-QprwbO"
      }
    },
    {
      "cell_type": "markdown",
      "source": [
        "Đề bài: Cho đồ thị có 4 đỉnh (0, 1, 2, 3) và các cạnh (0,1), (0,2), (1,3), (2,3)"
      ],
      "metadata": {
        "id": "StFLkXB5sDoC"
      }
    },
    {
      "cell_type": "code",
      "execution_count": null,
      "metadata": {
        "colab": {
          "base_uri": "https://localhost:8080/"
        },
        "id": "t4pHdmBBknzw",
        "outputId": "caef2791-59d8-4531-bfe2-fcf4853fe2e7"
      },
      "outputs": [
        {
          "output_type": "stream",
          "name": "stdout",
          "text": [
            "Đồ thị mẫu (danh sách kề):\n",
            "Đỉnh 0: [1, 2]\n",
            "Đỉnh 1: [0, 3]\n",
            "Đỉnh 2: [0, 3]\n",
            "Đỉnh 3: [1, 2]\n",
            "Bậc của các đỉnh:\n",
            "Đỉnh 0: Bậc 2\n",
            "Đỉnh 1: Bậc 2\n",
            "Đỉnh 2: Bậc 2\n",
            "Đỉnh 3: Bậc 2\n",
            "=> Đồ thị LIÊN THÔNG và tất cả đỉnh đều bậc chẵn.\n",
            "Đồ thị này có thể có chu trình Euler.\n"
          ]
        }
      ],
      "source": [
        "import math\n",
        "\n",
        "def tao_do_thi_euler_mau():\n",
        "    \"\"\"Tạo một đồ thị đơn giản có chu trình Euler.\"\"\"\n",
        "    graph_euler = {\n",
        "        0: [1, 2],\n",
        "        1: [0, 3],\n",
        "        2: [0, 3],\n",
        "        3: [1, 2]\n",
        "    }\n",
        "    print(\"Đồ thị mẫu (danh sách kề):\")\n",
        "    for node, neighbors in graph_euler.items():\n",
        "        print(f\"Đỉnh {node}: {neighbors}\")\n",
        "    return graph_euler\n",
        "\n",
        "def tinh_bac_cac_dinh(graph):\n",
        "    \"\"\"Tính bậc của mỗi đỉnh trong đồ thị.\"\"\"\n",
        "    bac_dinh = {}\n",
        "    for node in graph:\n",
        "        bac_dinh[node] = len(graph[node])\n",
        "    return bac_dinh\n",
        "\n",
        "def kiem_tra_lien_thong(graph):\n",
        "    \"\"\"Kiểm tra xem đồ thị có liên thông không.\"\"\"\n",
        "    if not graph: return True\n",
        "\n",
        "    start_node = next(iter(graph))\n",
        "    visited = set()\n",
        "    stack = [start_node]\n",
        "\n",
        "    while stack:\n",
        "        node = stack.pop()\n",
        "        if node not in visited:\n",
        "            visited.add(node)\n",
        "            for neighbor in graph[node]:\n",
        "                stack.append(neighbor)\n",
        "\n",
        "    return len(visited) == len(graph) # Đúng nếu tất cả đỉnh được thăm\n",
        "\n",
        "def kiem_tra_do_thi_euler(graph):\n",
        "    \"\"\"Kiểm tra điều kiện để có chu trình Euler.\"\"\"\n",
        "    if not kiem_tra_lien_thong(graph):\n",
        "        print(\"Đồ thị KHÔNG LIÊN THÔNG.\")\n",
        "        return False\n",
        "\n",
        "    bac_dinh = tinh_bac_cac_dinh(graph)\n",
        "    print(\"Bậc của các đỉnh:\")\n",
        "    for node, bac in bac_dinh.items():\n",
        "        print(f\"Đỉnh {node}: Bậc {bac}\")\n",
        "        if bac % 2 != 0:\n",
        "            print(\"=> Đồ thị KHÔNG phải đồ thị Euler (có đỉnh bậc lẻ).\")\n",
        "            return False\n",
        "    print(\"=> Đồ thị LIÊN THÔNG và tất cả đỉnh đều bậc chẵn.\")\n",
        "    return True\n",
        "\n",
        "# --- Chạy thử kiểm tra điều kiện ---\n",
        "my_graph = tao_do_thi_euler_mau()\n",
        "if kiem_tra_do_thi_euler(my_graph):\n",
        "    print(\"Đồ thị này có thể có chu trình Euler.\")\n",
        "else:\n",
        "    print(\"Đồ thị này không có chu trình Euler.\")\n"
      ]
    },
    {
      "cell_type": "markdown",
      "source": [
        "b. Yêu cầu sinh viên sửa và lý giải\n",
        "\n",
        "•\tSửa đổi: Thêm một đỉnh mới (ví dụ: đỉnh 4) vào đồ thị my_graph mà không có cạnh nào nối với nó. Chạy lại kiem_tra_lien_thong() và giải thích kết quả.\n",
        "\n",
        "•\tLý giải: Nếu bạn thay đổi my_graph thành 0: [1], 1: [0, 2], 2: [1], thì đồ thị này có phải là đồ thị Euler không? Tại sao?\n"
      ],
      "metadata": {
        "id": "LxKajzwNsUZY"
      }
    },
    {
      "cell_type": "code",
      "source": [
        "import math\n",
        "\n",
        "def tao_do_thi_co_dinh_moi():\n",
        "    \"\"\"Tạo đồ thị thêm đỉnh 4 mà không nối cạnh nào.\"\"\"\n",
        "    graph = {\n",
        "        0: [1, 2],\n",
        "        1: [0, 3],\n",
        "        2: [0, 3],\n",
        "        3: [1, 2],\n",
        "        4: []\n",
        "    }\n",
        "    print(\"Đồ thị sau khi thêm đỉnh 4 (danh sách kề):\")\n",
        "    for node, neighbors in graph.items():\n",
        "        print(f\"Đỉnh {node}: {neighbors}\")\n",
        "    return graph\n",
        "\n",
        "def tinh_bac_cac_dinh(graph):\n",
        "    \"\"\"Tính bậc của mỗi đỉnh trong đồ thị.\"\"\"\n",
        "    bac_dinh = {}\n",
        "    for node in graph:\n",
        "        bac_dinh[node] = len(graph[node])\n",
        "    return bac_dinh\n",
        "\n",
        "def kiem_tra_lien_thong(graph):\n",
        "    \"\"\"Kiểm tra xem đồ thị có liên thông không.\"\"\"\n",
        "    if not graph: return True\n",
        "\n",
        "    start_node = next(iter(graph))\n",
        "    visited = set()\n",
        "    stack = [start_node]\n",
        "\n",
        "    while stack:\n",
        "        node = stack.pop()\n",
        "        if node not in visited:\n",
        "            visited.add(node)\n",
        "            for neighbor in graph[node]:\n",
        "                stack.append(neighbor)\n",
        "\n",
        "    return len(visited) == len(graph)\n",
        "\n",
        "def kiem_tra_do_thi_euler(graph):\n",
        "    \"\"\"Kiểm tra điều kiện Euler.\"\"\"\n",
        "    if not kiem_tra_lien_thong(graph):\n",
        "        print(\"Đồ thị KHÔNG LIÊN THÔNG.\")\n",
        "        return False\n",
        "\n",
        "    bac_dinh = tinh_bac_cac_dinh(graph)\n",
        "    print(\"Bậc của các đỉnh:\")\n",
        "    for node, bac in bac_dinh.items():\n",
        "        print(f\"Đỉnh {node}: Bậc {bac}\")\n",
        "        if bac % 2 != 0:\n",
        "            print(\"=> Đồ thị KHÔNG phải đồ thị Euler (có đỉnh bậc lẻ).\")\n",
        "            return False\n",
        "    print(\"=> Đồ thị LIÊN THÔNG và tất cả đỉnh đều bậc chẵn.\")\n",
        "    return True\n",
        "\n",
        "my_graph = tao_do_thi_co_dinh_moi()\n",
        "print(\"\\nKiểm tra liên thông sau khi thêm đỉnh 4:\")\n",
        "print(\"Kết quả:\", kiem_tra_lien_thong(my_graph))\n",
        "\n",
        "my_graph = {\n",
        "    0: [1],\n",
        "    1: [0, 2],\n",
        "    2: [1]\n",
        "}\n",
        "print(\"\\nĐồ thị mới (danh sách kề):\")\n",
        "for node, neighbors in my_graph.items():\n",
        "    print(f\"Đỉnh {node}: {neighbors}\")\n",
        "\n",
        "if kiem_tra_do_thi_euler(my_graph):\n",
        "    print(\"Đồ thị này có chu trình Euler.\")\n",
        "else:\n",
        "    print(\"Đồ thị này KHÔNG có chu trình Euler.\")\n"
      ],
      "metadata": {
        "id": "TAuYBJrksZqh",
        "outputId": "dd7cc938-922e-47b9-9af7-31f154752fe7",
        "colab": {
          "base_uri": "https://localhost:8080/"
        }
      },
      "execution_count": 15,
      "outputs": [
        {
          "output_type": "stream",
          "name": "stdout",
          "text": [
            "Đồ thị sau khi thêm đỉnh 4 (danh sách kề):\n",
            "Đỉnh 0: [1, 2]\n",
            "Đỉnh 1: [0, 3]\n",
            "Đỉnh 2: [0, 3]\n",
            "Đỉnh 3: [1, 2]\n",
            "Đỉnh 4: []\n",
            "\n",
            "Kiểm tra liên thông sau khi thêm đỉnh 4:\n",
            "Kết quả: False\n",
            "\n",
            "Đồ thị mới (danh sách kề):\n",
            "Đỉnh 0: [1]\n",
            "Đỉnh 1: [0, 2]\n",
            "Đỉnh 2: [1]\n",
            "Bậc của các đỉnh:\n",
            "Đỉnh 0: Bậc 1\n",
            "=> Đồ thị KHÔNG phải đồ thị Euler (có đỉnh bậc lẻ).\n",
            "Đồ thị này KHÔNG có chu trình Euler.\n"
          ]
        }
      ]
    },
    {
      "cell_type": "markdown",
      "source": [
        "#THUẬT TOÁN FLEURY\n"
      ],
      "metadata": {
        "id": "K_2dTJ4lsaPm"
      }
    },
    {
      "cell_type": "code",
      "source": [
        "def xoa_canh(graph, u, v):\n",
        "    if v in graph.get(u, []):\n",
        "        graph[u].remove(v)\n",
        "    if u in graph.get(v, []):\n",
        "        graph[v].remove(u)\n",
        "    if not graph.get(u):\n",
        "        if u in graph: del graph[u]\n",
        "    if not graph.get(v):\n",
        "        if v in graph: del graph[v]\n",
        "\n",
        "\n",
        "def fleury_don_gian(graph_original):\n",
        "    # Tạo bản sao đồ thị để không làm thay đổi đồ thị gốc\n",
        "    graph = {node: list(neighbors) for node, neighbors in graph_original.items()}\n",
        "\n",
        "    # Tính tổng số cạnh ban đầu\n",
        "    num_edges_total = sum(len(neighbors) for neighbors in graph.values()) // 2\n",
        "\n",
        "    # Kiểm tra điều kiện Euler trước khi chạy thuật toán\n",
        "    if not kiem_tra_do_thi_euler(graph_original):\n",
        "        print(\"Đồ thị không đủ điều kiện có chu trình Euler.\")\n",
        "        return None\n",
        "\n",
        "    # Bắt đầu từ đỉnh 0 (hoặc bất kỳ đỉnh nào khác)\n",
        "    current_vertex = 0\n",
        "    circuit = [current_vertex]\n",
        "\n",
        "    # Lặp cho đến khi tất cả các cạnh đã được đi qua\n",
        "    while num_edges_total > 0:\n",
        "        neighbors = list(graph.get(current_vertex, []))\n",
        "\n",
        "        if not neighbors:\n",
        "            break\n",
        "\n",
        "        # Chọn cạnh đầu tiên có sẵn để đi\n",
        "        next_vertex = neighbors[0]\n",
        "\n",
        "        # Xóa cạnh đã chọn khỏi đồ thị\n",
        "        xoa_canh(graph, current_vertex, next_vertex)\n",
        "        num_edges_total -= 1\n",
        "\n",
        "        # Thêm đỉnh tiếp theo vào chu trình và di chuyển đến đỉnh mới\n",
        "        circuit.append(next_vertex)\n",
        "        current_vertex = next_vertex\n",
        "\n",
        "    # Kiểm tra xem chu trình có hợp lệ hay không\n",
        "    if num_edges_total == 0 and circuit[0] == circuit[-1]:\n",
        "        print(\"\\nTìm thấy chu trình Euler:\")\n",
        "        print(\" -> \".join(map(str, circuit)))\n",
        "        return circuit\n",
        "    else:\n",
        "        print(\"\\nKhông tìm thấy chu trình Euler hợp lệ (có thể còn cạnh sót hoặc không quay về được điểm đầu).\")\n",
        "        print(f\"Số cạnh còn lại: {num_edges_total}\")\n",
        "        print(f\"Chu trình hiện tại: {circuit}\")\n",
        "        return None\n",
        "\n",
        "# --- Chạy thuật toán Fleury đơn giản ---\n",
        "print(\"\\n--- Chạy Thuật toán Fleury (đơn giản) ---\")\n",
        "chu_trinh = fleury_don_gian(my_graph)\n"
      ],
      "metadata": {
        "colab": {
          "base_uri": "https://localhost:8080/"
        },
        "id": "6UMZA5LZriMP",
        "outputId": "9a2b7902-d527-4a5e-c49c-c94de2af53b6"
      },
      "execution_count": null,
      "outputs": [
        {
          "output_type": "stream",
          "name": "stdout",
          "text": [
            "\n",
            "--- Chạy Thuật toán Fleury (đơn giản) ---\n",
            "Bậc của các đỉnh:\n",
            "Đỉnh 0: Bậc 2\n",
            "Đỉnh 1: Bậc 2\n",
            "Đỉnh 2: Bậc 2\n",
            "Đỉnh 3: Bậc 2\n",
            "=> Đồ thị LIÊN THÔNG và tất cả đỉnh đều bậc chẵn.\n",
            "\n",
            "Tìm thấy chu trình Euler:\n",
            "0 -> 1 -> 3 -> 2 -> 0\n"
          ]
        }
      ]
    },
    {
      "cell_type": "markdown",
      "source": [
        "b. Yêu cầu sinh viên sửa và lý giải\n",
        "\n",
        "•\tSửa đổi:\n",
        "\n",
        "Tạo một đồ thị mới: graph_moi = {0: [1, 2, 3], 1: [0, 2], 2: [0, 1, 3], 3: [0, 2]}. Đây là đồ thị hình vuông có một đường chéo.\n",
        "\n",
        "Chạy fleury_don_gian với graph_moi. Quan sát chu trình Euler tìm được.\n",
        "\n",
        "•\tLý giải:\n",
        "\n",
        "Trong hàm xoa_canh, tại sao chúng ta phải xóa v khỏi danh sách kề của u và u khỏi danh sách kề của v?\n",
        "\n",
        "Nếu một đồ thị có chu trình Euler, nhưng bạn bắt đầu thuật toán Fleury từ một đỉnh khác đỉnh 0 (ví dụ: đỉnh 1), liệu bạn có tìm được chu trình Euler không? Chu trình đó có giống hệt chu trình bắt đầu từ đỉnh 0 không?\n"
      ],
      "metadata": {
        "id": "InHcuRuRspk1"
      }
    },
    {
      "cell_type": "code",
      "source": [
        "def tinh_bac_cac_dinh(graph):\n",
        "    \"\"\"Tính bậc của mỗi đỉnh trong đồ thị.\"\"\"\n",
        "    return {u: len(vs) for u, vs in graph.items()}\n",
        "\n",
        "\n",
        "def kiem_tra_lien_thong(graph):\n",
        "    \"\"\"Kiểm tra xem đồ thị có liên thông không.\"\"\"\n",
        "    if not graph:\n",
        "        return True\n",
        "    start = next(iter(graph))\n",
        "    visited, stack = set(), [start]\n",
        "    while stack:\n",
        "        u = stack.pop()\n",
        "        if u not in visited:\n",
        "            visited.add(u)\n",
        "            for v in graph[u]:\n",
        "                stack.append(v)\n",
        "    return len(visited) == len(graph)\n",
        "\n",
        "\n",
        "def kiem_tra_do_thi_euler(graph):\n",
        "    \"\"\"Kiểm tra điều kiện để có chu trình Euler.\"\"\"\n",
        "    if not kiem_tra_lien_thong(graph):\n",
        "        print(\"Đồ thị không liên thông.\")\n",
        "        return False\n",
        "    bac = tinh_bac_cac_dinh(graph)\n",
        "    for u, val in bac.items():\n",
        "        if val % 2 != 0:\n",
        "            print(f\"Đỉnh {u} có bậc lẻ ({val}) → Không phải đồ thị Euler.\")\n",
        "            return False\n",
        "    return True\n",
        "\n",
        "\n",
        "def xoa_canh(graph, u, v):\n",
        "    \"\"\"Xóa cạnh (u, v) khỏi đồ thị vô hướng (không xóa đỉnh).\"\"\"\n",
        "    if v in graph.get(u, []):\n",
        "        graph[u].remove(v)\n",
        "    if u in graph.get(v, []):\n",
        "        graph[v].remove(u)\n",
        "\n",
        "\n",
        "def chon_canh_fleury(graph, u):\n",
        "    \"\"\"Chọn cạnh tiếp theo theo quy tắc Fleury.\"\"\"\n",
        "    neighbors = graph[u]\n",
        "    if len(neighbors) == 1:\n",
        "        return neighbors[0]\n",
        "\n",
        "    for v in neighbors:\n",
        "\n",
        "        graph[u].remove(v)\n",
        "        graph[v].remove(u)\n",
        "        still_connected = kiem_tra_lien_thong(graph)\n",
        "\n",
        "        graph[u].append(v)\n",
        "        graph[v].append(u)\n",
        "        if still_connected:\n",
        "            return v\n",
        "    return neighbors[0]\n",
        "\n",
        "\n",
        "def fleury_don_gian(graph_original, start=None):\n",
        "    \"\"\"Tìm chu trình Euler bằng thuật toán Fleury.\"\"\"\n",
        "    graph = {u: list(vs) for u, vs in graph_original.items()}\n",
        "\n",
        "    if not kiem_tra_do_thi_euler(graph_original):\n",
        "        print(\"Đồ thị không đủ điều kiện có chu trình Euler.\")\n",
        "        return None\n",
        "\n",
        "    if start is None:\n",
        "        start = next(u for u, vs in graph.items() if len(vs) > 0)\n",
        "\n",
        "    circuit = [start]\n",
        "    current = start\n",
        "    edges_left = sum(len(vs) for vs in graph.values()) // 2\n",
        "\n",
        "    while edges_left > 0:\n",
        "        nxt = chon_canh_fleury(graph, current)\n",
        "        xoa_canh(graph, current, nxt)\n",
        "        edges_left -= 1\n",
        "        circuit.append(nxt)\n",
        "        current = nxt\n",
        "\n",
        "    if circuit[0] == circuit[-1]:\n",
        "        print(f\"\\nChu trình Euler (bắt đầu tại {start}):\")\n",
        "        print(\" -> \".join(map(str, circuit)))\n",
        "        return circuit\n",
        "    else:\n",
        "        print(\"\\n Không quay lại được điểm xuất phát.\")\n",
        "        print(\"Đường đi hiện tại:\", circuit)\n",
        "        return None\n",
        "\n",
        "\n",
        "graph_moi = {\n",
        "    0: [1, 2, 3],\n",
        "    1: [0, 2],\n",
        "    2: [0, 1, 3],\n",
        "    3: [0, 2]\n",
        "}\n",
        "print(\"=== ĐỒ THỊ MỚI (vuông + đường chéo) ===\")\n",
        "print(\"Danh sách kề:\", graph_moi)\n",
        "\n",
        "fleury_don_gian(graph_moi, start=0)\n",
        "\n",
        "fleury_don_gian(graph_moi, start=1)\n"
      ],
      "metadata": {
        "id": "1Gp_NZb6swmL",
        "outputId": "6fc6861f-3f8d-4469-b51d-962177980cb8",
        "colab": {
          "base_uri": "https://localhost:8080/"
        }
      },
      "execution_count": 21,
      "outputs": [
        {
          "output_type": "stream",
          "name": "stdout",
          "text": [
            "=== ĐỒ THỊ MỚI (vuông + đường chéo) ===\n",
            "Danh sách kề: {0: [1, 2, 3], 1: [0, 2], 2: [0, 1, 3], 3: [0, 2]}\n",
            "Đỉnh 0 có bậc lẻ (3) → Không phải đồ thị Euler.\n",
            "Đồ thị không đủ điều kiện có chu trình Euler.\n",
            "Đỉnh 0 có bậc lẻ (3) → Không phải đồ thị Euler.\n",
            "Đồ thị không đủ điều kiện có chu trình Euler.\n"
          ]
        }
      ]
    }
  ]
}