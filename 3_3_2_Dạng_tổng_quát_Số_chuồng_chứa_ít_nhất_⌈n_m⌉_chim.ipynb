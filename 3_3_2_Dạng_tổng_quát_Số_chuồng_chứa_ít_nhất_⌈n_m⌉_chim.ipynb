{
  "nbformat": 4,
  "nbformat_minor": 0,
  "metadata": {
    "colab": {
      "provenance": [],
      "include_colab_link": true
    },
    "kernelspec": {
      "name": "python3",
      "display_name": "Python 3"
    },
    "language_info": {
      "name": "python"
    }
  },
  "cells": [
    {
      "cell_type": "markdown",
      "metadata": {
        "id": "view-in-github",
        "colab_type": "text"
      },
      "source": [
        "<a href=\"https://colab.research.google.com/github/NTuanHung123/TRR/blob/main/3_3_2_D%E1%BA%A1ng_t%E1%BB%95ng_qu%C3%A1t_S%E1%BB%91_chu%E1%BB%93ng_ch%E1%BB%A9a_%C3%ADt_nh%E1%BA%A5t_%E2%8C%88n_m%E2%8C%89_chim.ipynb\" target=\"_parent\"><img src=\"https://colab.research.google.com/assets/colab-badge.svg\" alt=\"Open In Colab\"/></a>"
      ]
    },
    {
      "cell_type": "markdown",
      "source": [
        "a. Ví dụ minh họa:\n",
        "viết một hàm Python để tính toán giá trị ⌈n/m⌉ và minh họa bằng cách gán người vào tháng sinh."
      ],
      "metadata": {
        "id": "iba1GsnQyq-t"
      }
    },
    {
      "cell_type": "code",
      "execution_count": null,
      "metadata": {
        "colab": {
          "base_uri": "https://localhost:8080/"
        },
        "id": "B1dLwDPpydvd",
        "outputId": "39b34c0e-c943-4972-ecca-16c551be8d6d"
      },
      "outputs": [
        {
          "output_type": "stream",
          "name": "stdout",
          "text": [
            "--- Ví dụ: Sinh nhật theo tháng ---\n",
            "Có 13 'chim bồ câu' và 12 'chuồng'.\n",
            "Theo Nguyên lý Dirichlet, ít nhất có một 'chuồng' chứa: 2 'chim bồ câu' trở lên.\n",
            "\n",
            "--- Ví dụ: Sinh nhật theo ngày trong tuần ---\n",
            "Có 30 'chim bồ câu' và 7 'chuồng'.\n",
            "Theo Nguyên lý Dirichlet, ít nhất có một 'chuồng' chứa: 5 'chim bồ câu' trở lên.\n"
          ]
        },
        {
          "output_type": "execute_result",
          "data": {
            "text/plain": [
              "5"
            ]
          },
          "metadata": {},
          "execution_count": 2
        }
      ],
      "source": [
        "import math\n",
        "\n",
        "def ap_dung_dirichlet_tong_quat(n_chim, m_chuong):\n",
        "    \"\"\"\n",
        "    Tính toán số chim tối thiểu trong một chuồng theo Nguyên lý Dirichlet dạng tổng quát.\n",
        "    n_chim: số lượng chim bồ câu (ví dụ: số người)\n",
        "    m_chuong: số lượng chuồng (ví dụ: số tháng trong năm)\n",
        "    \"\"\"\n",
        "    if m_chuong <= 0:\n",
        "        return \"Số chuồng phải lớn hơn 0.\"\n",
        "\n",
        "    # Sử dụng math.ceil để làm tròn lên\n",
        "    so_chim_toi_thieu = math.ceil(n_chim / m_chuong)\n",
        "\n",
        "    print(f\"Có {n_chim} 'chim bồ câu' và {m_chuong} 'chuồng'.\")\n",
        "    print(f\"Theo Nguyên lý Dirichlet, ít nhất có một 'chuồng' chứa: {so_chim_toi_thieu} 'chim bồ câu' trở lên.\")\n",
        "    return so_chim_toi_thieu\n",
        "\n",
        "# Ví dụ 1: 13 người, 12 tháng\n",
        "print(\"--- Ví dụ: Sinh nhật theo tháng ---\")\n",
        "ap_dung_dirichlet_tong_quat(13, 12)\n",
        "\n",
        "# Ví dụ 2: 30 học sinh, 7 ngày trong tuần (sinh nhật trong tuần)\n",
        "print(\"\\n--- Ví dụ: Sinh nhật theo ngày trong tuần ---\")\n",
        "ap_dung_dirichlet_tong_quat(30, 7)\n"
      ]
    },
    {
      "cell_type": "markdown",
      "source": [
        "b. Yêu cầu sinh viên sửa và lý giải\n",
        "\n",
        "•\tMột trường học có 400 học sinh. Hãy tính xem chắc chắn có ít nhất bao nhiêu học sinh có cùng ngày sinh trong năm (bỏ qua năm nhuận, coi 1 năm có 365 ngày).\n",
        "\n",
        "•\tGiả sử có 200 chiếc kẹo được chia đều vào 3 cái túi. Hỏi chắc chắn có ít nhất một túi chứa bao nhiêu chiếc kẹo?\n",
        "\n",
        "•\tGợi ý nâng cao:\n",
        "\n",
        "o\tBạn có 100 quả bóng được tô 5 màu khác nhau. Hỏi bạn phải lấy ra ít nhất bao nhiêu quả bóng để chắc chắn có ít nhất 20 quả bóng cùng màu? (Đây là bài toán ngược, yêu cầu suy luận ngược từ nguyên lý).\n"
      ],
      "metadata": {
        "id": "O6qnktXFy3GO"
      }
    },
    {
      "cell_type": "code",
      "source": [
        "import math\n",
        "\n",
        "def ap_dung_dirichlet_tong_quat(n_chim, m_chuong):\n",
        "    \"\"\"\n",
        "    Tính toán số chim tối thiểu trong một chuồng theo Nguyên lý Dirichlet dạng tổng quát.\n",
        "    n_chim: số lượng chim bồ câu (ví dụ: số học sinh, số kẹo)\n",
        "    m_chuong: số lượng chuồng (ví dụ: số ngày, số túi)\n",
        "    \"\"\"\n",
        "    if m_chuong <= 0:\n",
        "        return \"Số chuồng phải lớn hơn 0.\"\n",
        "\n",
        "    # Làm tròn lên\n",
        "    so_chim_toi_thieu = math.ceil(n_chim / m_chuong)\n",
        "\n",
        "    print(f\"Có {n_chim} 'chim bồ câu' và {m_chuong} 'chuồng'.\")\n",
        "    print(f\"⇒ Ít nhất một 'chuồng' chứa: {so_chim_toi_thieu} 'chim bồ câu' trở lên.\")\n",
        "    return so_chim_toi_thieu\n",
        "\n",
        "# Bài 1: 400 học sinh, 365 ngày\n",
        "print(\"--- Bài 1: Sinh nhật ---\")\n",
        "ap_dung_dirichlet_tong_quat(400, 365)\n",
        "\n",
        "# Bài 2: 200 kẹo, 3 túi\n",
        "print(\"\\n--- Bài 2: Chia kẹo ---\")\n",
        "ap_dung_dirichlet_tong_quat(200, 3)\n",
        "\n",
        "# Bài 3: 100 bóng, 5 màu, muốn chắc chắn có >=20 quả cùng màu\n",
        "print(\"\\n--- Bài 3: Bóng nhiều màu ---\")\n",
        "n_bong = 100\n",
        "m_mau = 5\n",
        "gioi_han = 20\n",
        "\n",
        "# Trường hợp xấu nhất: mỗi màu 19 quả => 5*19 = 95\n",
        "# Thêm 1 quả nữa thì chắc chắn >=20\n",
        "ket_qua = (gioi_han - 1) * m_mau + 1\n",
        "print(f\"Để chắc chắn có {gioi_han} quả cùng màu, cần lấy ít nhất: {ket_qua} quả bóng.\")\n"
      ],
      "metadata": {
        "id": "qmyti6XEy1Mo",
        "outputId": "e07bdd67-d527-4ec4-d468-374d9dd84223",
        "colab": {
          "base_uri": "https://localhost:8080/"
        }
      },
      "execution_count": 1,
      "outputs": [
        {
          "output_type": "stream",
          "name": "stdout",
          "text": [
            "--- Bài 1: Sinh nhật ---\n",
            "Có 400 'chim bồ câu' và 365 'chuồng'.\n",
            "⇒ Ít nhất một 'chuồng' chứa: 2 'chim bồ câu' trở lên.\n",
            "\n",
            "--- Bài 2: Chia kẹo ---\n",
            "Có 200 'chim bồ câu' và 3 'chuồng'.\n",
            "⇒ Ít nhất một 'chuồng' chứa: 67 'chim bồ câu' trở lên.\n",
            "\n",
            "--- Bài 3: Bóng nhiều màu ---\n",
            "Để chắc chắn có 20 quả cùng màu, cần lấy ít nhất: 96 quả bóng.\n"
          ]
        }
      ]
    }
  ]
}