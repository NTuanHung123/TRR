{
  "nbformat": 4,
  "nbformat_minor": 0,
  "metadata": {
    "colab": {
      "provenance": [],
      "include_colab_link": true
    },
    "kernelspec": {
      "name": "python3",
      "display_name": "Python 3"
    },
    "language_info": {
      "name": "python"
    }
  },
  "cells": [
    {
      "cell_type": "markdown",
      "metadata": {
        "id": "view-in-github",
        "colab_type": "text"
      },
      "source": [
        "<a href=\"https://colab.research.google.com/github/NTuanHung123/TRR/blob/main/5_3_2_B%C3%A0i_to%C3%A1n_ng%C6%B0%E1%BB%9Di_du_l%E1%BB%8Bch_(Traveling_Salesperson_Problem_TSP).ipynb\" target=\"_parent\"><img src=\"https://colab.research.google.com/assets/colab-badge.svg\" alt=\"Open In Colab\"/></a>"
      ]
    },
    {
      "cell_type": "markdown",
      "source": [
        "a. Ví dụ minh họa"
      ],
      "metadata": {
        "id": "XAtbnCLX2SYl"
      }
    },
    {
      "cell_type": "code",
      "execution_count": null,
      "metadata": {
        "colab": {
          "base_uri": "https://localhost:8080/"
        },
        "id": "3b3Xs0t12Pc_",
        "outputId": "48d6daa2-a267-4174-832b-609de4989cd7"
      },
      "outputs": [
        {
          "output_type": "stream",
          "name": "stdout",
          "text": [
            "\n",
            "--- Giải Bài toán Người du lịch bằng Nhánh cận (đơn giản) ---\n",
            "Ma trận chi phí: [[inf, 10, 15, 20], [10, inf, 35, 25], [15, 35, inf, 30], [20, 25, 30, inf]]\n",
            "Tổng chi phí đường đi ngắn nhất: 80\n",
            "Đường đi tối ưu: [0, 1, 3, 2, 0]\n"
          ]
        }
      ],
      "source": [
        "import math\n",
        "\n",
        "# Ma trận chi phí giữa các thành phố\n",
        "# graph[i][j] là chi phí từ thành phố i đến thành phố j\n",
        "# Sử dụng 'math.inf' (vô cực) cho các đường không có hoặc đường từ thành phố đến chính nó\n",
        "GRAPH_TSP = [\n",
        "    [math.inf, 10, 15, 20], # Từ thành phố 0 đến các thành phố 0, 1, 2, 3\n",
        "    [10, math.inf, 35, 25], # Từ thành phố 1\n",
        "    [15, 35, math.inf, 30], # Từ thành phố 2\n",
        "    [20, 25, 30, math.inf]  # Từ thành phố 3\n",
        "]\n",
        "SO_THANH_PHO = len(GRAPH_TSP)\n",
        "\n",
        "# Biến toàn cục để lưu trữ chi phí tốt nhất và đường đi tương ứng\n",
        "CHI_PHI_TOI_THIEU_HIEN_TAI = math.inf\n",
        "DUONG_DI_TOT_NHAT_HIEN_TAI = []\n",
        "\n",
        "def giai_tsp_bnbl_don_gian(current_city, current_path, current_cost):\n",
        "    \"\"\"\n",
        "    Hàm giải bài toán Người du lịch bằng ý tưởng Nhánh cận đơn giản.\n",
        "    current_city: Thành phố hiện tại đang đứng.\n",
        "    current_path: Danh sách các thành phố đã đi qua trong lộ trình hiện tại.\n",
        "    current_cost: Tổng chi phí của lộ trình hiện tại.\n",
        "    \"\"\"\n",
        "    global CHI_PHI_TOI_THIEU_HIEN_TAI, DUONG_DI_TOT_NHAT_HIEN_TAI\n",
        "\n",
        "    # --- Cắt tỉa (Pruning) ---\n",
        "    # Nếu chi phí hiện tại đã lớn hơn hoặc bằng chi phí tốt nhất đã tìm thấy,\n",
        "    # thì nhánh này không còn tiềm năng, không cần đi tiếp.\n",
        "    if current_cost >= CHI_PHI_TOI_THIEU_HIEN_TAI:\n",
        "        return\n",
        "\n",
        "    # --- Điều kiện dừng (đã thăm tất cả thành phố) ---\n",
        "    # Nếu đã thăm tất cả các thành phố (số lượng thành phố trong path bằng tổng số thành phố)\n",
        "    if len(current_path) == SO_THANH_PHO:\n",
        "        # Thêm chi phí để quay về thành phố xuất phát (thành phố 0)\n",
        "        cost_to_return = GRAPH_TSP[current_city][current_path[0]]\n",
        "\n",
        "        # Nếu có đường về và tổng chi phí mới là tốt hơn\n",
        "        if cost_to_return != math.inf and (current_cost + cost_to_return) < CHI_PHI_TOI_THIEU_HIEN_TAI:\n",
        "            CHI_PHI_TOI_THIEU_HIEN_TAI = current_cost + cost_to_return\n",
        "            DUONG_DI_TOT_NHAT_HIEN_TAI = current_path + [current_path[0]] # Lưu đường đi hoàn chỉnh\n",
        "        return\n",
        "\n",
        "    # --- Nhánh (Branching) ---\n",
        "    # Duyệt qua tất cả các thành phố có thể đi đến từ thành phố hiện tại\n",
        "    for next_city in range(SO_THANH_PHO):\n",
        "        # Kiểm tra:\n",
        "        # 1. Không phải là thành phố hiện tại (đường đi đến chính nó)\n",
        "        # 2. Thành phố đó chưa được thăm trong lộ trình hiện tại\n",
        "        # 3. Có đường đi trực tiếp từ current_city đến next_city (chi phí không phải vô cực)\n",
        "        if next_city != current_city and \\\n",
        "           next_city not in current_path and \\\n",
        "           GRAPH_TSP[current_city][next_city] != math.inf:\n",
        "\n",
        "            # Gọi đệ quy để tiếp tục xây dựng đường đi\n",
        "            giai_tsp_bnbl_don_gian(\n",
        "                next_city, # Thành phố tiếp theo\n",
        "                current_path + [next_city], # Thêm thành phố vào lộ trình\n",
        "                current_cost + GRAPH_TSP[current_city][next_city] # Cộng thêm chi phí\n",
        "            )\n",
        "\n",
        "# Bắt đầu thuật toán từ thành phố 0, với chi phí ban đầu là 0\n",
        "print(\"\\n--- Giải Bài toán Người du lịch bằng Nhánh cận (đơn giản) ---\")\n",
        "# Luôn bắt đầu từ thành phố 0 (hoặc bất kỳ thành phố nào)\n",
        "giai_tsp_bnbl_don_gian(0, [0], 0)\n",
        "\n",
        "print(f\"Ma trận chi phí: {GRAPH_TSP}\")\n",
        "print(f\"Tổng chi phí đường đi ngắn nhất: {CHI_PHI_TOI_THIEU_HIEN_TAI}\")\n",
        "print(f\"Đường đi tối ưu: {DUONG_DI_TOT_NHAT_HIEN_TAI}\")\n"
      ]
    },
    {
      "cell_type": "markdown",
      "source": [
        "b. Yêu cầu sinh viên sửa và lý giải\n",
        "\n",
        "•\tThay đổi GRAPH_TSP với một đồ thị khác (ví dụ: 3 thành phố hoặc 5 thành phố). Chạy lại chương trình và quan sát kết quả.\n",
        "\n",
        "•\tHãy tự tay vẽ một cây tìm kiếm (tối đa 3 thành phố) và minh họa cách CHI_PHI_TOI_THIEU_HIEN_TAI giúp cắt bỏ các nhánh.\n",
        "\n",
        "•\tGợi ý nâng cao: Hãy thử đặt các giá trị math.inf (vô cực) sao cho có những thành phố không thể đi đến được. Quan sát điều gì xảy ra với kết quả.\n"
      ],
      "metadata": {
        "id": "H2Y72HG727Xk"
      }
    },
    {
      "cell_type": "code",
      "source": [
        "import math\n",
        "\n",
        "GRAPH_TSP = [\n",
        "    [math.inf, 10, 15],  # từ thành phố 0 → (0,1,2)\n",
        "    [10, math.inf, 20],  # từ thành phố 1\n",
        "    [15, 20, math.inf]   # từ thành phố 2\n",
        "]\n",
        "SO_THANH_PHO = len(GRAPH_TSP)\n",
        "\n",
        "CHI_PHI_TOI_THIEU_HIEN_TAI = math.inf\n",
        "DUONG_DI_TOT_NHAT_HIEN_TAI = []\n",
        "\n",
        "def giai_tsp_bnbl_don_gian(current_city, current_path, current_cost):\n",
        "    global CHI_PHI_TOI_THIEU_HIEN_TAI, DUONG_DI_TOT_NHAT_HIEN_TAI\n",
        "\n",
        "    if current_cost >= CHI_PHI_TOI_THIEU_HIEN_TAI:\n",
        "        return\n",
        "\n",
        "    if len(current_path) == SO_THANH_PHO:\n",
        "        cost_to_return = GRAPH_TSP[current_city][current_path[0]]\n",
        "        if cost_to_return != math.inf and (current_cost + cost_to_return) < CHI_PHI_TOI_THIEU_HIEN_TAI:\n",
        "            CHI_PHI_TOI_THIEU_HIEN_TAI = current_cost + cost_to_return\n",
        "            DUONG_DI_TOT_NHAT_HIEN_TAI = current_path + [current_path[0]]\n",
        "        return\n",
        "\n",
        "    for next_city in range(SO_THANH_PHO):\n",
        "        if next_city != current_city and next_city not in current_path and GRAPH_TSP[current_city][next_city] != math.inf:\n",
        "            giai_tsp_bnbl_don_gian(next_city, current_path + [next_city], current_cost + GRAPH_TSP[current_city][next_city])\n",
        "\n",
        "print(\"\\n--- Giải Bài toán Người du lịch (3 thành phố) ---\")\n",
        "giai_tsp_bnbl_don_gian(0, [0], 0)\n",
        "\n",
        "print(f\"Ma trận chi phí: {GRAPH_TSP}\")\n",
        "print(f\"Tổng chi phí đường đi ngắn nhất: {CHI_PHI_TOI_THIEU_HIEN_TAI}\")\n",
        "print(f\"Đường đi tối ưu: {DUONG_DI_TOT_NHAT_HIEN_TAI}\")\n"
      ],
      "metadata": {
        "id": "j0J4Ba6n2VWZ",
        "outputId": "17800cf5-72d6-43f5-97bf-37a63c188afe",
        "colab": {
          "base_uri": "https://localhost:8080/"
        }
      },
      "execution_count": 1,
      "outputs": [
        {
          "output_type": "stream",
          "name": "stdout",
          "text": [
            "\n",
            "--- Giải Bài toán Người du lịch (3 thành phố) ---\n",
            "Ma trận chi phí: [[inf, 10, 15], [10, inf, 20], [15, 20, inf]]\n",
            "Tổng chi phí đường đi ngắn nhất: 45\n",
            "Đường đi tối ưu: [0, 1, 2, 0]\n"
          ]
        }
      ]
    }
  ]
}