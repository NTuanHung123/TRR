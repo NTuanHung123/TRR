{
  "nbformat": 4,
  "nbformat_minor": 0,
  "metadata": {
    "colab": {
      "provenance": [],
      "include_colab_link": true
    },
    "kernelspec": {
      "name": "python3",
      "display_name": "Python 3"
    },
    "language_info": {
      "name": "python"
    }
  },
  "cells": [
    {
      "cell_type": "markdown",
      "metadata": {
        "id": "view-in-github",
        "colab_type": "text"
      },
      "source": [
        "<a href=\"https://colab.research.google.com/github/NTuanHung123/TRR/blob/main/3_3_1_D%E1%BA%A1ng_%C4%91%C6%A1n_gi%E1%BA%A3n_Nhi%E1%BB%81u_chim_h%C6%A1n_chu%E1%BB%93ng.ipynb\" target=\"_parent\"><img src=\"https://colab.research.google.com/assets/colab-badge.svg\" alt=\"Open In Colab\"/></a>"
      ]
    },
    {
      "cell_type": "markdown",
      "source": [
        "a. Ví dụ minh họa"
      ],
      "metadata": {
        "id": "i1ondN4OyL2J"
      }
    },
    {
      "cell_type": "code",
      "execution_count": null,
      "metadata": {
        "colab": {
          "base_uri": "https://localhost:8080/"
        },
        "id": "AteTx_oex_sY",
        "outputId": "30c08f95-d7a3-49ac-89bc-572edc0657e3"
      },
      "outputs": [
        {
          "output_type": "stream",
          "name": "stdout",
          "text": [
            "--- Mô phỏng rút 2 chiếc tất ---\n",
            "Bạn đã rút ra: ['trắng', 'đen']\n",
            "Số tất đen: 1, Số tất trắng: 1\n",
            "=> CHƯA CHẮC CHẮN có đôi tất cùng màu.\n",
            "\n",
            "--- Mô phỏng rút 3 chiếc tất ---\n",
            "Bạn đã rút ra: ['trắng', 'trắng', 'đen']\n",
            "Số tất đen: 1, Số tất trắng: 2\n",
            "=> CHẮC CHẮN CÓ MỘT ĐÔI TẤT CÙNG MÀU (theo Nguyên lý Dirichlet)!\n",
            "Bạn đã rút ra: ['đen', 'trắng', 'đen']\n",
            "Số tất đen: 2, Số tất trắng: 1\n",
            "=> CHẮC CHẮN CÓ MỘT ĐÔI TẤT CÙNG MÀU (theo Nguyên lý Dirichlet)!\n",
            "Bạn đã rút ra: ['trắng', 'đen', 'đen']\n",
            "Số tất đen: 2, Số tất trắng: 1\n",
            "=> CHẮC CHẮN CÓ MỘT ĐÔI TẤT CÙNG MÀU (theo Nguyên lý Dirichlet)!\n"
          ]
        },
        {
          "output_type": "execute_result",
          "data": {
            "text/plain": [
              "True"
            ]
          },
          "metadata": {},
          "execution_count": 2
        }
      ],
      "source": [
        "import random\n",
        "\n",
        "def mo_phong_rut_tat(so_luong_rut):\n",
        "    \"\"\"\n",
        "    Mô phỏng việc rút tất từ ngăn kéo và kiểm tra có đôi tất cùng màu hay không.\n",
        "    Ngăn kéo có: 5 đôi tất đen (10 chiếc), 5 đôi tất trắng (10 chiếc).\n",
        "    \"\"\"\n",
        "    tat_trong_ngan_keo = ['đen'] * 10 + ['trắng'] * 10\n",
        "\n",
        "    # Trộn ngẫu nhiên các chiếc tất\n",
        "    random.shuffle(tat_trong_ngan_keo)\n",
        "\n",
        "    # Rút ra số lượng tất yêu cầu\n",
        "    tat_da_rut = tat_trong_ngan_keo[:so_luong_rut]\n",
        "\n",
        "    # Đếm số lượng tất đen và trắng đã rút được\n",
        "    dem_den = tat_da_rut.count('đen')\n",
        "    dem_trang = tat_da_rut.count('trắng')\n",
        "\n",
        "    print(f\"Bạn đã rút ra: {tat_da_rut}\")\n",
        "    print(f\"Số tất đen: {dem_den}, Số tất trắng: {dem_trang}\")\n",
        "\n",
        "    # Kiểm tra xem có đôi tất cùng màu hay không (ít nhất 2 chiếc cùng màu)\n",
        "    if dem_den >= 2 or dem_trang >= 2:\n",
        "        print(\"=> CHẮC CHẮN CÓ MỘT ĐÔI TẤT CÙNG MÀU (theo Nguyên lý Dirichlet)!\")\n",
        "        return True\n",
        "    else:\n",
        "        print(\"=> CHƯA CHẮC CHẮN có đôi tất cùng màu.\")\n",
        "        return False\n",
        "\n",
        "print(\"--- Mô phỏng rút 2 chiếc tất ---\")\n",
        "mo_phong_rut_tat(2) # Thử chạy vài lần để thấy kết quả có thể chưa chắc chắn\n",
        "\n",
        "print(\"\\n--- Mô phỏng rút 3 chiếc tất ---\")\n",
        "mo_phong_rut_tat(3) # Thử chạy vài lần, bạn sẽ thấy kết quả luôn là \"CHẮC CHẮN CÓ MỘT ĐÔI\"\n",
        "mo_phong_rut_tat(3)\n",
        "mo_phong_rut_tat(3)\n"
      ]
    },
    {
      "cell_type": "markdown",
      "source": [
        "b. Yêu cầu sinh viên sửa và lý giải\n",
        "\n",
        "•\tChạy lại hàm mo_phong_rut_tat(2) nhiều lần. Quan sát và giải thích tại sao đôi khi bạn có đôi tất cùng màu, đôi khi lại không.\n",
        "\n",
        "•\tĐiều chỉnh hàm mo_phong_rut_tat để ngăn kéo có thêm 3 đôi tất màu xám (tức là 6 chiếc màu xám). Hỏi bạn cần rút ra bao nhiêu chiếc tất để chắc chắn có một đôi tất cùng màu? Chạy mô phỏng để kiểm chứng.\n"
      ],
      "metadata": {
        "id": "vF_9MdwtyTrm"
      }
    },
    {
      "cell_type": "code",
      "source": [
        "import random\n",
        "\n",
        "def mo_phong_rut_tat(so_luong_rut):\n",
        "    \"\"\"\n",
        "    Mô phỏng việc rút tất từ ngăn kéo và kiểm tra có đôi tất cùng màu hay không.\n",
        "    Ngăn kéo có: 5 đôi tất đen (10 chiếc), 5 đôi tất trắng (10 chiếc), 3 đôi tất xám (6 chiếc).\n",
        "    \"\"\"\n",
        "    tat_trong_ngan_keo = ['đen'] * 10 + ['trắng'] * 10 + ['xám'] * 6\n",
        "\n",
        "    # Trộn ngẫu nhiên các chiếc tất\n",
        "    random.shuffle(tat_trong_ngan_keo)\n",
        "\n",
        "    # Rút ra số lượng tất yêu cầu\n",
        "    tat_da_rut = tat_trong_ngan_keo[:so_luong_rut]\n",
        "\n",
        "    # Đếm số lượng từng màu tất đã rút được\n",
        "    dem_den = tat_da_rut.count('đen')\n",
        "    dem_trang = tat_da_rut.count('trắng')\n",
        "    dem_xam = tat_da_rut.count('xám')\n",
        "\n",
        "    print(f\"Bạn đã rút ra: {tat_da_rut}\")\n",
        "    print(f\"Số tất đen: {dem_den}, Số tất trắng: {dem_trang}, Số tất xám: {dem_xam}\")\n",
        "\n",
        "    # Kiểm tra xem có đôi tất cùng màu hay không\n",
        "    if dem_den >= 2 or dem_trang >= 2 or dem_xam >= 2:\n",
        "        print(\"=> CHẮC CHẮN CÓ MỘT ĐÔI TẤT CÙNG MÀU (theo Nguyên lý Dirichlet)!\")\n",
        "        return True\n",
        "    else:\n",
        "        print(\"=> CHƯA CHẮC CHẮN có đôi tất cùng màu.\")\n",
        "        return False\n",
        "\n",
        "\n",
        "print(\"--- Mô phỏng rút 2 chiếc tất ---\")\n",
        "mo_phong_rut_tat(2)  # Có thể có đôi, có thể không\n",
        "\n",
        "print(\"\\n--- Mô phỏng rút 3 chiếc tất ---\")\n",
        "mo_phong_rut_tat(3)  # Có thể có đôi, có thể không\n",
        "\n",
        "print(\"\\n--- Mô phỏng rút 4 chiếc tất ---\")\n",
        "mo_phong_rut_tat(4)  # Luôn chắc chắn có ít nhất một đôi\n",
        "mo_phong_rut_tat(4)\n",
        "mo_phong_rut_tat(4)\n"
      ],
      "metadata": {
        "id": "Ak2HaGJxyJAM",
        "colab": {
          "base_uri": "https://localhost:8080/"
        },
        "outputId": "cd2e372f-50ee-4e68-fc2c-9e6ece9a6cb8"
      },
      "execution_count": 1,
      "outputs": [
        {
          "output_type": "stream",
          "name": "stdout",
          "text": [
            "--- Mô phỏng rút 2 chiếc tất ---\n",
            "Bạn đã rút ra: ['trắng', 'trắng']\n",
            "Số tất đen: 0, Số tất trắng: 2, Số tất xám: 0\n",
            "=> CHẮC CHẮN CÓ MỘT ĐÔI TẤT CÙNG MÀU (theo Nguyên lý Dirichlet)!\n",
            "\n",
            "--- Mô phỏng rút 3 chiếc tất ---\n",
            "Bạn đã rút ra: ['trắng', 'trắng', 'đen']\n",
            "Số tất đen: 1, Số tất trắng: 2, Số tất xám: 0\n",
            "=> CHẮC CHẮN CÓ MỘT ĐÔI TẤT CÙNG MÀU (theo Nguyên lý Dirichlet)!\n",
            "\n",
            "--- Mô phỏng rút 4 chiếc tất ---\n",
            "Bạn đã rút ra: ['đen', 'xám', 'trắng', 'đen']\n",
            "Số tất đen: 2, Số tất trắng: 1, Số tất xám: 1\n",
            "=> CHẮC CHẮN CÓ MỘT ĐÔI TẤT CÙNG MÀU (theo Nguyên lý Dirichlet)!\n",
            "Bạn đã rút ra: ['đen', 'đen', 'xám', 'xám']\n",
            "Số tất đen: 2, Số tất trắng: 0, Số tất xám: 2\n",
            "=> CHẮC CHẮN CÓ MỘT ĐÔI TẤT CÙNG MÀU (theo Nguyên lý Dirichlet)!\n",
            "Bạn đã rút ra: ['trắng', 'trắng', 'đen', 'xám']\n",
            "Số tất đen: 1, Số tất trắng: 2, Số tất xám: 1\n",
            "=> CHẮC CHẮN CÓ MỘT ĐÔI TẤT CÙNG MÀU (theo Nguyên lý Dirichlet)!\n"
          ]
        },
        {
          "output_type": "execute_result",
          "data": {
            "text/plain": [
              "True"
            ]
          },
          "metadata": {},
          "execution_count": 1
        }
      ]
    }
  ]
}