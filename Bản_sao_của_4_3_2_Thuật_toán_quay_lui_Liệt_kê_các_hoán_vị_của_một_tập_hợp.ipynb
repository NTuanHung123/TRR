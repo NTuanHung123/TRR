{
  "nbformat": 4,
  "nbformat_minor": 0,
  "metadata": {
    "colab": {
      "provenance": [],
      "include_colab_link": true
    },
    "kernelspec": {
      "name": "python3",
      "display_name": "Python 3"
    },
    "language_info": {
      "name": "python"
    }
  },
  "cells": [
    {
      "cell_type": "markdown",
      "metadata": {
        "id": "view-in-github",
        "colab_type": "text"
      },
      "source": [
        "<a href=\"https://colab.research.google.com/github/NTuanHung123/TRR/blob/main/B%E1%BA%A3n_sao_c%E1%BB%A7a_4_3_2_Thu%E1%BA%ADt_to%C3%A1n_quay_lui_Li%E1%BB%87t_k%C3%AA_c%C3%A1c_ho%C3%A1n_v%E1%BB%8B_c%E1%BB%A7a_m%E1%BB%99t_t%E1%BA%ADp_h%E1%BB%A3p.ipynb\" target=\"_parent\"><img src=\"https://colab.research.google.com/assets/colab-badge.svg\" alt=\"Open In Colab\"/></a>"
      ]
    },
    {
      "cell_type": "markdown",
      "source": [
        "a. Ví dụ minh họa"
      ],
      "metadata": {
        "id": "6bwOWanCzp15"
      }
    },
    {
      "cell_type": "code",
      "execution_count": null,
      "metadata": {
        "colab": {
          "base_uri": "https://localhost:8080/"
        },
        "id": "MKsPiALYznmQ",
        "outputId": "9ef118a8-ae2c-412b-f57b-b0ab1a9c93b1"
      },
      "outputs": [
        {
          "output_type": "stream",
          "name": "stdout",
          "text": [
            "Các hoán vị của ['A', 'B', 'C']: ['ABC', 'ACB', 'BAC', 'BCA', 'CAB', 'CBA']\n",
            "\n",
            "--- Liệt kê hoán vị của các số 1, 2 ---\n",
            "Các hoán vị của [1, 2]: ['12', '21']\n"
          ]
        }
      ],
      "source": [
        "def liet_ke_hoan_vi(danh_sach_phan_tu):\n",
        "    \"\"\"\n",
        "    Liệt kê tất cả các hoán vị của một danh sách các phần tử bằng thuật toán quay lui.\n",
        "    \"\"\"\n",
        "    ket_qua = [] # Danh sách để lưu trữ tất cả các hoán vị tìm được\n",
        "    n = len(danh_sach_phan_tu)\n",
        "\n",
        "    # Hàm trợ giúp đệ quy (hàm con)\n",
        "    # path: hoán vị hiện tại đang được xây dựng\n",
        "    # remaining: các phần tử còn lại chưa được sử dụng\n",
        "    def backtrack(current_permutation, remaining_elements):\n",
        "        # Điều kiện dừng: nếu không còn phần tử nào, hoán vị đã hoàn thành\n",
        "        if not remaining_elements:\n",
        "            ket_qua.append(\"\".join(map(str, current_permutation))) # Thêm hoán vị vào kết quả\n",
        "            return\n",
        "\n",
        "        # Duyệt qua từng phần tử còn lại\n",
        "        for i in range(len(remaining_elements)):\n",
        "            # Chọn một phần tử\n",
        "            chon_phan_tu = remaining_elements[i]\n",
        "\n",
        "            # Đánh dấu phần tử đã chọn (thêm vào hoán vị hiện tại)\n",
        "            current_permutation.append(chon_phan_tu)\n",
        "\n",
        "            # Xây dựng danh sách các phần tử còn lại (bỏ phần tử vừa chọn)\n",
        "            new_remaining = remaining_elements[:i] + remaining_elements[i+1:]\n",
        "\n",
        "            # Gọi đệ quy cho phần còn lại\n",
        "            backtrack(current_permutation, new_remaining)\n",
        "\n",
        "            # Quay lui: bỏ phần tử đã chọn để thử lựa chọn khác\n",
        "            current_permutation.pop()\n",
        "\n",
        "    # Bắt đầu quá trình quay lui\n",
        "    backtrack([], list(danh_sach_phan_tu))\n",
        "    return ket_qua\n",
        "\n",
        "# Liệt kê hoán vị của các ký tự 'A', 'B', 'C'\n",
        "phan_tu_1 = ['A', 'B', 'C']\n",
        "hoan_vi_1 = liet_ke_hoan_vi(phan_tu_1)\n",
        "print(f\"Các hoán vị của {phan_tu_1}: {hoan_vi_1}\")\n",
        "\n",
        "print(\"\\n--- Liệt kê hoán vị của các số 1, 2 ---\")\n",
        "phan_tu_2 = [1, 2]\n",
        "hoan_vi_2 = liet_ke_hoan_vi(phan_tu_2)\n",
        "print(f\"Các hoán vị của {phan_tu_2}: {hoan_vi_2}\")\n"
      ]
    },
    {
      "cell_type": "markdown",
      "source": [
        "b. Yêu cầu sinh viên sửa và lý giải\n",
        "\n",
        "•\tLiệt kê tất cả các hoán vị của danh sách số [1, 2, 3, 4].\n",
        "\n",
        "•\tQuan sát cách các hoán vị được tạo ra và giải thích tại sao mỗi phần tử xuất hiện ở vị trí đầu tiên đều có các hoán vị khác nhau ở phần còn lại.\n",
        "\n",
        "•\tGợi ý nâng cao: Thư viện itertools của Python có hàm permutations làm điều này rất hiệu quả. Hãy tìm hiểu và so sánh cách sử dụng.\n"
      ],
      "metadata": {
        "id": "vLAipAi0zyUX"
      }
    },
    {
      "cell_type": "code",
      "source": [
        "def liet_ke_hoan_vi(danh_sach_phan_tu):\n",
        "    \"\"\"\n",
        "    Liệt kê tất cả các hoán vị của một danh sách các phần tử bằng thuật toán quay lui.\n",
        "    \"\"\"\n",
        "    ket_qua = []  # Danh sách để lưu trữ tất cả các hoán vị tìm được\n",
        "\n",
        "    # Hàm đệ quy (backtrack)\n",
        "    def backtrack(current_permutation, remaining_elements):\n",
        "        # Nếu không còn phần tử nào thì ta đã hoàn thành một hoán vị\n",
        "        if not remaining_elements:\n",
        "            ket_qua.append(current_permutation[:])  # copy danh sách để lưu lại\n",
        "            return\n",
        "\n",
        "        # Duyệt qua từng phần tử còn lại\n",
        "        for i in range(len(remaining_elements)):\n",
        "            # Chọn 1 phần tử\n",
        "            chon_phan_tu = remaining_elements[i]\n",
        "            current_permutation.append(chon_phan_tu)\n",
        "\n",
        "            # Gọi đệ quy cho phần còn lại\n",
        "            backtrack(current_permutation, remaining_elements[:i] + remaining_elements[i+1:])\n",
        "\n",
        "            # Quay lui (bỏ phần tử vừa chọn để thử cái khác)\n",
        "            current_permutation.pop()\n",
        "\n",
        "    # Bắt đầu với danh sách trống và toàn bộ phần tử\n",
        "    backtrack([], list(danh_sach_phan_tu))\n",
        "    return ket_qua\n",
        "\n",
        "\n",
        "# Thử với danh sách [1, 2, 3, 4]\n",
        "phan_tu = [1, 2, 3, 4]\n",
        "hoan_vi = liet_ke_hoan_vi(phan_tu)\n",
        "\n",
        "print(f\"Có tổng cộng {len(hoan_vi)} hoán vị của {phan_tu}:\")\n",
        "for hv in hoan_vi:\n",
        "    print(hv)\n"
      ],
      "metadata": {
        "id": "y6U7-C8zzuIc",
        "colab": {
          "base_uri": "https://localhost:8080/"
        },
        "outputId": "178bfdaa-5569-49e9-adaa-50ea6aa07f55"
      },
      "execution_count": null,
      "outputs": [
        {
          "output_type": "stream",
          "name": "stdout",
          "text": [
            "Có tổng cộng 24 hoán vị của [1, 2, 3, 4]:\n",
            "[1, 2, 3, 4]\n",
            "[1, 2, 4, 3]\n",
            "[1, 3, 2, 4]\n",
            "[1, 3, 4, 2]\n",
            "[1, 4, 2, 3]\n",
            "[1, 4, 3, 2]\n",
            "[2, 1, 3, 4]\n",
            "[2, 1, 4, 3]\n",
            "[2, 3, 1, 4]\n",
            "[2, 3, 4, 1]\n",
            "[2, 4, 1, 3]\n",
            "[2, 4, 3, 1]\n",
            "[3, 1, 2, 4]\n",
            "[3, 1, 4, 2]\n",
            "[3, 2, 1, 4]\n",
            "[3, 2, 4, 1]\n",
            "[3, 4, 1, 2]\n",
            "[3, 4, 2, 1]\n",
            "[4, 1, 2, 3]\n",
            "[4, 1, 3, 2]\n",
            "[4, 2, 1, 3]\n",
            "[4, 2, 3, 1]\n",
            "[4, 3, 1, 2]\n",
            "[4, 3, 2, 1]\n"
          ]
        }
      ]
    }
  ]
}