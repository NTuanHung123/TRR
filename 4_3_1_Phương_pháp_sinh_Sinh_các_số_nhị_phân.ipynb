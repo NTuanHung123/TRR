{
  "nbformat": 4,
  "nbformat_minor": 0,
  "metadata": {
    "colab": {
      "provenance": [],
      "include_colab_link": true
    },
    "kernelspec": {
      "name": "python3",
      "display_name": "Python 3"
    },
    "language_info": {
      "name": "python"
    }
  },
  "cells": [
    {
      "cell_type": "markdown",
      "metadata": {
        "id": "view-in-github",
        "colab_type": "text"
      },
      "source": [
        "<a href=\"https://colab.research.google.com/github/NTuanHung123/TRR/blob/main/4_3_1_Ph%C6%B0%C6%A1ng_ph%C3%A1p_sinh_Sinh_c%C3%A1c_s%E1%BB%91_nh%E1%BB%8B_ph%C3%A2n.ipynb\" target=\"_parent\"><img src=\"https://colab.research.google.com/assets/colab-badge.svg\" alt=\"Open In Colab\"/></a>"
      ]
    },
    {
      "cell_type": "markdown",
      "source": [
        "a. Ví dụ minh họa"
      ],
      "metadata": {
        "id": "3pqXaGbHzPrs"
      }
    },
    {
      "cell_type": "code",
      "execution_count": null,
      "metadata": {
        "colab": {
          "base_uri": "https://localhost:8080/"
        },
        "id": "iug0dfFxzIzl",
        "outputId": "43fd1e98-8a8a-4ab7-be5a-5a97627815de"
      },
      "outputs": [
        {
          "output_type": "stream",
          "name": "stdout",
          "text": [
            "Các số nhị phân có độ dài 2:\n",
            "00\n",
            "01\n",
            "10\n",
            "11\n",
            "\n",
            "--- Sinh các số nhị phân có độ dài 3 ---\n",
            "Các số nhị phân có độ dài 3:\n",
            "000\n",
            "001\n",
            "010\n",
            "011\n",
            "100\n",
            "101\n",
            "110\n",
            "111\n"
          ]
        }
      ],
      "source": [
        "def sinh_so_nhi_phan(n):\n",
        "    \"\"\"\n",
        "    Sinh tất cả các số nhị phân có độ dài n bằng cách duyệt từ 0 đến 2^n - 1\n",
        "    và chuyển đổi sang dạng nhị phân.\n",
        "    \"\"\"\n",
        "    if n <= 0:\n",
        "        print(\"Độ dài phải là số dương.\")\n",
        "        return\n",
        "\n",
        "    print(f\"Các số nhị phân có độ dài {n}:\")\n",
        "    # Số lượng số nhị phân có độ dài n là 2^n\n",
        "    so_luong_so = 2**n\n",
        "\n",
        "    for i in range(so_luong_so):\n",
        "        # Chuyển số thập phân i sang dạng nhị phân\n",
        "        # Sử dụng f-string với định dạng {i:0{n}b}\n",
        "        # ':b' để chuyển sang nhị phân\n",
        "        # '0{n}' để thêm số 0 vào đầu nếu cần, đảm bảo đủ n chữ số\n",
        "        dang_nhi_phan = f\"{i:0{n}b}\"\n",
        "        print(dang_nhi_phan)\n",
        "\n",
        "# Sinh các số nhị phân có độ dài 2\n",
        "sinh_so_nhi_phan(2)\n",
        "\n",
        "print(\"\\n--- Sinh các số nhị phân có độ dài 3 ---\")\n",
        "sinh_so_nhi_phan(3)\n"
      ]
    },
    {
      "cell_type": "markdown",
      "source": [
        "b. Yêu cầu sinh viên sửa và lý giải\n",
        "\n",
        "•\tSinh tất cả các số nhị phân có độ dài 4. Quan sát và giải thích cách chúng được tạo ra.\n",
        "\n",
        "•\tThay đổi hàm để sinh các số tam phân (chỉ gồm các chữ số 0, 1, 2) có độ dài n. (Gợi ý: Số lượng số tam phân có độ dài n là 3n. Cần viết lại logic chuyển đổi từ số nguyên sang dạng tam phân).\n"
      ],
      "metadata": {
        "id": "ypV5kM4-zdUC"
      }
    },
    {
      "cell_type": "code",
      "source": [
        "def sinh_so_nhi_phan(n):\n",
        "    \"\"\"\n",
        "    Sinh tất cả các số nhị phân có độ dài n bằng cách duyệt từ 0 đến 2^n - 1\n",
        "    và chuyển đổi sang dạng nhị phân.\n",
        "    \"\"\"\n",
        "    if n <= 0:\n",
        "        print(\"Độ dài phải là số dương.\")\n",
        "        return\n",
        "\n",
        "    print(f\"Các số nhị phân có độ dài {n}:\")\n",
        "    # Số lượng số nhị phân có độ dài n là 2^n\n",
        "    so_luong_so = 2**n\n",
        "\n",
        "    for i in range(so_luong_so):\n",
        "        # Chuyển số thập phân i sang dạng nhị phân\n",
        "        dang_nhi_phan = f\"{i:0{n}b}\"\n",
        "        print(dang_nhi_phan)\n",
        "\n",
        "\n",
        "# Sinh các số nhị phân có độ dài 4\n",
        "sinh_so_nhi_phan(4)\n"
      ],
      "metadata": {
        "id": "Kqv4Q1WiQrMw",
        "outputId": "daf23865-d147-4c08-953e-5014b0a7eacd",
        "colab": {
          "base_uri": "https://localhost:8080/"
        }
      },
      "execution_count": 1,
      "outputs": [
        {
          "output_type": "stream",
          "name": "stdout",
          "text": [
            "Các số nhị phân có độ dài 4:\n",
            "0000\n",
            "0001\n",
            "0010\n",
            "0011\n",
            "0100\n",
            "0101\n",
            "0110\n",
            "0111\n",
            "1000\n",
            "1001\n",
            "1010\n",
            "1011\n",
            "1100\n",
            "1101\n",
            "1110\n",
            "1111\n"
          ]
        }
      ]
    },
    {
      "cell_type": "code",
      "source": [
        "def sinh_so_tam_phan(n):\n",
        "    \"\"\"\n",
        "    Sinh tất cả các số tam phân có độ dài n (chỉ gồm các chữ số 0, 1, 2).\n",
        "    Duyệt từ 0 đến 3^n - 1 và chuyển sang dạng tam phân.\n",
        "    \"\"\"\n",
        "    if n <= 0:\n",
        "        print(\"Độ dài phải là số dương.\")\n",
        "        return\n",
        "\n",
        "    print(f\"Các số tam phân có độ dài {n}:\")\n",
        "    so_luong_so = 3**n\n",
        "\n",
        "    for i in range(so_luong_so):\n",
        "        # Chuyển số i sang dạng tam phân (hệ cơ số 3)\n",
        "        dang_tam_phan = \"\"\n",
        "        so = i\n",
        "        while so > 0:\n",
        "            dang_tam_phan = str(so % 3) + dang_tam_phan\n",
        "            so //= 3\n",
        "\n",
        "        # Nếu chưa đủ n chữ số thì thêm '0' vào đầu\n",
        "        dang_tam_phan = dang_tam_phan.zfill(n)\n",
        "\n",
        "        print(dang_tam_phan)\n",
        "\n",
        "\n",
        "# Thử với độ dài 2\n",
        "sinh_so_tam_phan(2)\n",
        "\n",
        "print(\"\\n--- Sinh các số tam phân có độ dài 3 ---\")\n",
        "sinh_so_tam_phan(3)\n"
      ],
      "metadata": {
        "id": "1jsnI7-DzVAB",
        "outputId": "4e39c5e8-a20c-4324-b931-b22467e63107",
        "colab": {
          "base_uri": "https://localhost:8080/"
        }
      },
      "execution_count": 2,
      "outputs": [
        {
          "output_type": "stream",
          "name": "stdout",
          "text": [
            "Các số tam phân có độ dài 2:\n",
            "00\n",
            "01\n",
            "02\n",
            "10\n",
            "11\n",
            "12\n",
            "20\n",
            "21\n",
            "22\n",
            "\n",
            "--- Sinh các số tam phân có độ dài 3 ---\n",
            "Các số tam phân có độ dài 3:\n",
            "000\n",
            "001\n",
            "002\n",
            "010\n",
            "011\n",
            "012\n",
            "020\n",
            "021\n",
            "022\n",
            "100\n",
            "101\n",
            "102\n",
            "110\n",
            "111\n",
            "112\n",
            "120\n",
            "121\n",
            "122\n",
            "200\n",
            "201\n",
            "202\n",
            "210\n",
            "211\n",
            "212\n",
            "220\n",
            "221\n",
            "222\n"
          ]
        }
      ]
    }
  ]
}